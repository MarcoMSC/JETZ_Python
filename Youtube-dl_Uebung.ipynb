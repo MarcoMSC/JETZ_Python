{
    "cells": [
        {
            "cell_type": "markdown",
            "source": [
                "# Python integration von *youtube_dl*\r\n",
                "\r\n",
                "<br><br><br>\r\n",
                "\r\n",
                "## Listet alle verfügbaren Formate des Video/Audio auf (mit Dateigrösse am Ende):"
            ],
            "metadata": {}
        },
        {
            "cell_type": "code",
            "execution_count": null,
            "source": [
                "import youtube_dl\r\n",
                "\r\n",
                "ydl_opts = {\r\n",
                "    'listformats': True,         # print a list of the formats to stdout and exit\r\n",
                "}\r\n",
                "\r\n",
                "with youtube_dl.YoutubeDL(ydl_opts) as ydl:\r\n",
                "    ydl.extract_info('https://www.youtube.com/watch?v=FHH6hIc2GyE')"
            ],
            "outputs": [],
            "metadata": {}
        },
        {
            "cell_type": "markdown",
            "source": [
                "## Listet Infos (meta-daten) zu dem Video/Audio auf"
            ],
            "metadata": {}
        },
        {
            "cell_type": "code",
            "execution_count": null,
            "source": [
                "import youtube_dl\r\n",
                "\r\n",
                "ydl_opts = {}\r\n",
                "\r\n",
                "with youtube_dl.YoutubeDL(ydl_opts) as ydl:\r\n",
                "    meta = ydl.extract_info(\r\n",
                "        'https://www.youtube.com/watch?v=FHH6hIc2GyE', download=False) \r\n",
                "\r\n",
                "print ('upload date : %s' %(meta['upload_date']))\r\n",
                "print ('uploader    : %s' %(meta['uploader']))\r\n",
                "print ('views       : %d' %(meta['view_count']))\r\n",
                "print ('likes       : %d' %(meta['like_count']))\r\n",
                "print ('dislikes    : %d' %(meta['dislike_count']))\r\n",
                "print ('id          : %s' %(meta['id']))\r\n",
                "print ('format      : %s' %(meta['format']))\r\n",
                "print ('duration    : %s' %(meta['duration']))\r\n",
                "print ('title       : %s' %(meta['title']))\r\n",
                "print ('description : %s' %(meta['description']))"
            ],
            "outputs": [],
            "metadata": {}
        },
        {
            "cell_type": "markdown",
            "source": [
                "## Download eines Videos"
            ],
            "metadata": {}
        },
        {
            "cell_type": "code",
            "execution_count": null,
            "source": [
                "import youtube_dl\r\n",
                "\r\n",
                "ydl_opts = {\r\n",
                "    'outtmpl': '%(title)s.%(ext)s'\r\n",
                "}\r\n",
                "\r\n",
                "with youtube_dl.YoutubeDL(ydl_opts) as ydl:\r\n",
                "    ydl.download(['https://www.youtube.com/watch?v=FHH6hIc2GyE'])"
            ],
            "outputs": [],
            "metadata": {}
        },
        {
            "cell_type": "markdown",
            "source": [
                "## Download nur Audio Datei"
            ],
            "metadata": {}
        },
        {
            "cell_type": "code",
            "execution_count": null,
            "source": [
                "import youtube_dl\r\n",
                "\r\n",
                "ydl_opts = {\r\n",
                "    'outtmpl': '%(title)s.%(ext)s',\r\n",
                "    'format': 'bestaudio/best',\r\n",
                "}\r\n",
                "\r\n",
                "with youtube_dl.YoutubeDL(ydl_opts) as ydl:\r\n",
                "    ydl.download(['https://www.youtube.com/watch?v=FHH6hIc2GyE'])"
            ],
            "outputs": [],
            "metadata": {}
        },
        {
            "cell_type": "markdown",
            "source": [
                "# Übungen\r\n",
                "\r\n",
                "## Übung 1: \r\n",
                "\r\n",
                "Versuche ein Python Consolen-Programm zu schreiben, bei welchem per *input()* Funktion das Video (die URL zum Video) eingegeben werden kann. \r\n",
                "Dieses Video soll dann heruntergeladen werden.\r\n",
                "\r\n",
                "## Übung 2:\r\n",
                "Erweitere die Übung 1 so, dass du mit einer zweiten *input()* Abfrage definieren kannst, ob du nur eine Audio Datei oder die Video Datei herunterladen möchtest."
            ],
            "metadata": {}
        },
        {
            "cell_type": "markdown",
            "source": [
                "<br><br><br><br><br><br><br>\r\n",
                "# Weitere optionen und Beispiele \r\n",
                "\r\n",
                "Offizielle GitHub Seite [https://github.com/ytdl-org/youtube-dl#embedding-youtube-dl](https://github.com/ytdl-org/youtube-dl#embedding-youtube-dl)"
            ],
            "metadata": {}
        },
        {
            "cell_type": "code",
            "execution_count": null,
            "source": [
                "import youtube_dl\r\n",
                "\r\n",
                "\r\n",
                "class MyLogger(object):\r\n",
                "    def debug(self, msg):\r\n",
                "        print(msg)\r\n",
                "\r\n",
                "    def warning(self, msg):\r\n",
                "        print(msg)\r\n",
                "\r\n",
                "    def error(self, msg):\r\n",
                "        print(msg)\r\n",
                "\r\n",
                "\r\n",
                "def my_hook(d):\r\n",
                "    if d['status'] == 'finished':\r\n",
                "        print('Done downloading, now converting ...')\r\n",
                "\r\n",
                "\r\n",
                "ydl_opts = {\r\n",
                "    'outtmpl': '%(title)s.%(ext)s',\r\n",
                "    'format': 'best[height<=360]',\r\n",
                "    'audioformat': \"mp3\",        # convert to mp3\r\n",
                "    'logger': MyLogger(),\r\n",
                "    'progress_hooks': [my_hook],\r\n",
                "}\r\n",
                "ydl_no_opts = {}\r\n",
                "\r\n",
                "#'https://www.youtube.com/watch?v=BaW_jenozKc'\r\n",
                "\r\n",
                "with youtube_dl.YoutubeDL(ydl_opts) as ydl:\r\n",
                "    ydl.download('https://www.youtube.com/watch?v=FHH6hIc2GyE')"
            ],
            "outputs": [],
            "metadata": {}
        }
    ],
    "metadata": {
        "orig_nbformat": 4,
        "language_info": {
            "name": "python",
            "version": "3.9.1",
            "mimetype": "text/x-python",
            "codemirror_mode": {
                "name": "ipython",
                "version": 3
            },
            "pygments_lexer": "ipython3",
            "nbconvert_exporter": "python",
            "file_extension": ".py"
        },
        "kernelspec": {
            "name": "python3",
            "display_name": "Python 3.9.1 32-bit"
        },
        "interpreter": {
            "hash": "805f11c72160c9142408c26b3a0b7b4214d8a6956988520a24685f08e83b9fca"
        }
    },
    "nbformat": 4,
    "nbformat_minor": 2
}